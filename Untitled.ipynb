{
 "cells": [
  {
   "cell_type": "markdown",
   "id": "c181396a-22a1-4c73-b87f-ea6a1960ebdf",
   "metadata": {},
   "source": [
    "# Problem statement\n",
    "Schuster is a multinational retail company would like to know more about customers payment behavior \n",
    "from their past payment data,\n",
    "Schuster would also like to predict the likelihood of delayed payment using historical data.\n",
    "This should help the collection department to prioritize their work on customers accordingly and save time and money and also brand value by following up only with the right customers."
   ]
  },
  {
   "cell_type": "code",
   "execution_count": 4,
   "id": "5b4fed7f-def9-4b7b-9062-416457df3f49",
   "metadata": {},
   "outputs": [],
   "source": [
    "# Imporinting needed libraries\n",
    "import pandas as pd\n",
    "import matplotlib.pyplot as plt\n",
    "%matplotlib inline\n",
    "import seaborn as sns\n",
    "import statsmodels.api as sm\n",
    "import warnings\n",
    "warnings.filterwarnings(\"ignore\")"
   ]
  },
  {
   "cell_type": "code",
   "execution_count": null,
   "id": "51182154-ec91-43b1-952a-dce9a88e323e",
   "metadata": {},
   "outputs": [],
   "source": []
  },
  {
   "cell_type": "code",
   "execution_count": 12,
   "id": "34e12129-8b32-46da-a00f-7ef1c6ea5626",
   "metadata": {},
   "outputs": [],
   "source": [
    "past_data=pd.read_csv(\"Received_Payments_Data.csv\")"
   ]
  },
  {
   "cell_type": "code",
   "execution_count": 14,
   "id": "18720bea-b105-48c5-b3ab-49a225312323",
   "metadata": {},
   "outputs": [
    {
     "data": {
      "text/plain": [
       "(93937, 16)"
      ]
     },
     "execution_count": 14,
     "metadata": {},
     "output_type": "execute_result"
    }
   ],
   "source": [
    "past_data.shape"
   ]
  },
  {
   "cell_type": "code",
   "execution_count": 16,
   "id": "7a3c7444-b618-4a7d-824c-15072922fbd5",
   "metadata": {},
   "outputs": [
    {
     "data": {
      "text/plain": [
       "Index(['RECEIPT_METHOD', 'CUSTOMER_NAME', 'CUSTOMER_NUMBER', 'RECEIPT_DOC_NO',\n",
       "       'RECEIPT_DATE', 'CLASS', 'CURRENCY_CODE', 'Local Amount', 'USD Amount',\n",
       "       'INVOICE_ALLOCATED', 'INVOICE_CREATION_DATE', 'DUE_DATE',\n",
       "       'PAYMENT_TERM', 'INVOICE_CLASS', 'INVOICE_CURRENCY_CODE',\n",
       "       'INVOICE_TYPE'],\n",
       "      dtype='object')"
      ]
     },
     "execution_count": 16,
     "metadata": {},
     "output_type": "execute_result"
    }
   ],
   "source": [
    "past_data.columns"
   ]
  },
  {
   "cell_type": "code",
   "execution_count": 18,
   "id": "a86b60c0-54a7-4313-bffc-9fd8e189394e",
   "metadata": {},
   "outputs": [
    {
     "name": "stdout",
     "output_type": "stream",
     "text": [
      "<class 'pandas.core.frame.DataFrame'>\n",
      "RangeIndex: 93937 entries, 0 to 93936\n",
      "Data columns (total 16 columns):\n",
      " #   Column                 Non-Null Count  Dtype  \n",
      "---  ------                 --------------  -----  \n",
      " 0   RECEIPT_METHOD         93937 non-null  object \n",
      " 1   CUSTOMER_NAME          93937 non-null  object \n",
      " 2   CUSTOMER_NUMBER        93937 non-null  int64  \n",
      " 3   RECEIPT_DOC_NO         93908 non-null  float64\n",
      " 4   RECEIPT_DATE           93937 non-null  object \n",
      " 5   CLASS                  93937 non-null  object \n",
      " 6   CURRENCY_CODE          93937 non-null  object \n",
      " 7   Local Amount           93937 non-null  float64\n",
      " 8   USD Amount             93937 non-null  float64\n",
      " 9   INVOICE_ALLOCATED      93937 non-null  object \n",
      " 10  INVOICE_CREATION_DATE  93937 non-null  object \n",
      " 11  DUE_DATE               93937 non-null  object \n",
      " 12  PAYMENT_TERM           93937 non-null  object \n",
      " 13  INVOICE_CLASS          93937 non-null  object \n",
      " 14  INVOICE_CURRENCY_CODE  93937 non-null  object \n",
      " 15  INVOICE_TYPE           93937 non-null  object \n",
      "dtypes: float64(3), int64(1), object(12)\n",
      "memory usage: 11.5+ MB\n"
     ]
    }
   ],
   "source": [
    "past_data.info()"
   ]
  },
  {
   "cell_type": "code",
   "execution_count": 20,
   "id": "ec282894-4ed1-4f2c-9bb6-b61c2a9c24b7",
   "metadata": {},
   "outputs": [
    {
     "data": {
      "text/plain": [
       "RECEIPT_METHOD           0.000000\n",
       "CUSTOMER_NAME            0.000000\n",
       "CUSTOMER_NUMBER          0.000000\n",
       "RECEIPT_DOC_NO           0.000309\n",
       "RECEIPT_DATE             0.000000\n",
       "CLASS                    0.000000\n",
       "CURRENCY_CODE            0.000000\n",
       "Local Amount             0.000000\n",
       "USD Amount               0.000000\n",
       "INVOICE_ALLOCATED        0.000000\n",
       "INVOICE_CREATION_DATE    0.000000\n",
       "DUE_DATE                 0.000000\n",
       "PAYMENT_TERM             0.000000\n",
       "INVOICE_CLASS            0.000000\n",
       "INVOICE_CURRENCY_CODE    0.000000\n",
       "INVOICE_TYPE             0.000000\n",
       "dtype: float64"
      ]
     },
     "execution_count": 20,
     "metadata": {},
     "output_type": "execute_result"
    }
   ],
   "source": [
    "past_data.isna().mean()"
   ]
  },
  {
   "cell_type": "code",
   "execution_count": null,
   "id": "6c2d5f8b-58be-4823-831b-0330aa7e7c38",
   "metadata": {},
   "outputs": [],
   "source": [
    "# With ahppy to see clean data lets check categorical values\n"
   ]
  }
 ],
 "metadata": {
  "kernelspec": {
   "display_name": "Python 3 (ipykernel)",
   "language": "python",
   "name": "python3"
  },
  "language_info": {
   "codemirror_mode": {
    "name": "ipython",
    "version": 3
   },
   "file_extension": ".py",
   "mimetype": "text/x-python",
   "name": "python",
   "nbconvert_exporter": "python",
   "pygments_lexer": "ipython3",
   "version": "3.11.7"
  }
 },
 "nbformat": 4,
 "nbformat_minor": 5
}
